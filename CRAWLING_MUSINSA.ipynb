{
 "cells": [
  {
   "cell_type": "code",
   "execution_count": 1,
   "metadata": {},
   "outputs": [],
   "source": [
    "from urllib.request import urlretrieve\n",
    "from urllib.parse import quote_plus \n",
    "from bs4 import BeautifulSoup \n",
    "from selenium import webdriver\n",
    "from selenium.webdriver.common.action_chains import ActionChains\n",
    "from selenium.webdriver.common.keys import Keys\n",
    "import time\n",
    "import os"
   ]
  },
  {
   "cell_type": "code",
   "execution_count": 2,
   "metadata": {},
   "outputs": [],
   "source": [
    "#무신사용 웹 크롤러 version.1.1\n",
    "#사용 방법\n",
    "#\n",
    "#1. 셀레니움을 설치하고 가상 드라이브를 연결한다.(easy)\n",
    "#2. 입력 양식에 맞게 색, 카테고리, 페이지 탐색 범위를 적어서 파일경로를 지정한다.(easy)\n",
    "#3. 위 양식에 맞는 폴더가 생성되었는지 확인한 후 다음 코드 실행\n",
    "#++ 페이지 탐색 범위를 지정 1~10 ex 2페이지부터 5페이지  -->  2 입력 후 5 입력\n",
    "#4. 무신사 메인 페이지가 보일텐데 좌측에서 의상 카테고리-> 전체 (상의 클릭-> 전체 클릭)\n",
    "#5. 카테고리 설정했고 무늬를 원하면 무신사에서 제공하는 설정들이 있을텐데 그거 클릭\n",
    "#6. 5번까지 하고 #여기가 메인 이라고 적힌 코드까지 실행\n",
    "\n",
    "driver = webdriver.Chrome('C:\\\\chromedriver\\\\chromedriver')\n",
    "driver.maximize_window() #창 크기 최대로, 안하면 활성화 안되는 이미지 생겨서..\n",
    "driver.get('https://store.musinsa.com/app/news/views?idx=59753')#무신사 들어가기"
   ]
  },
  {
   "cell_type": "code",
   "execution_count": 3,
   "metadata": {},
   "outputs": [],
   "source": [
    "def enter_get_leave(length, index):\n",
    "    current_url = driver.current_url\n",
    "    \n",
    "    for photo in range(length):#한 페이지 당 사진 수 \n",
    "        try:   \n",
    "            current_photo_list = driver.find_elements_by_xpath('//*[@id=\"searchList\"]/li/div/div/a/img')\n",
    "            ActionChains(driver).move_to_element(current_photo_list[photo]).click(current_photo_list[photo]).perform()\n",
    "            big_photo = driver.find_element_by_xpath('//*[@id=\"bigimg\"]')\n",
    "            link = big_photo.get_attribute('src')\n",
    "        except:\n",
    "            driver.get(current_url)#뒤로가기가 아닌 원래 url로 이동하기\n",
    "            pass\n",
    "        else:\n",
    "            if 'https' in link:\n",
    "                start = link.rfind('.')\n",
    "                filetype = link[start:]\n",
    "                filename = f\"C:\\\\Users\\\\hando\\\\dohoon\\\\{feature}_{category}\\\\{feature}_{category}_{index:04d}{filetype}\"\n",
    "                urlretrieve(link, filename)\n",
    "                index = index + 1\n",
    "        \n",
    "        driver.get(current_url)#뒤로가기가 아닌 원래 url로 이동하기\n",
    "        driver.implicitly_wait(2)\n",
    "    return index"
   ]
  },
  {
   "cell_type": "code",
   "execution_count": 11,
   "metadata": {
    "scrolled": true
   },
   "outputs": [
    {
     "name": "stdout",
     "output_type": "stream",
     "text": [
      "특징 : 카모\n",
      "카테고리 : 1\n"
     ]
    }
   ],
   "source": [
    "#폴더명을 만들자\n",
    "feature = input(\"특징 : \")#원하는 특징 넣기\n",
    "category = input(\"카테고리 : \")#롱패팅, 숏패딩, 스커트 등등.."
   ]
  },
  {
   "cell_type": "code",
   "execution_count": 16,
   "metadata": {},
   "outputs": [
    {
     "name": "stdout",
     "output_type": "stream",
     "text": [
      "페이지 탐색 범위시작 : 2\n",
      "페이지 탐색 범위끝 : 2\n"
     ]
    }
   ],
   "source": [
    "page_move_from = input(\"페이지 탐색 범위시작 : \")\n",
    "page_move_to = input(\"페이지 탐색 범위끝 : \") \n",
    "#걍 1입력 후 1입력 등으로 한 페이지 씩 탐색하는 게 마음이 편하다 에러 수정할 생각없음"
   ]
  },
  {
   "cell_type": "code",
   "execution_count": 13,
   "metadata": {},
   "outputs": [
    {
     "name": "stdout",
     "output_type": "stream",
     "text": [
      "[폴더생성]\n"
     ]
    }
   ],
   "source": [
    "#위에서 지정한 이미지 특징대로 폴더 만들자\n",
    "if not os.path.isdir(f'C:\\\\Users\\\\hando\\\\dohoon\\\\{feature}_{category}'):\n",
    "    os.mkdir(f'C:\\\\Users\\\\hando\\\\dohoon\\\\{feature}_{category}')\n",
    "print('[폴더생성]')"
   ]
  },
  {
   "cell_type": "code",
   "execution_count": 14,
   "metadata": {},
   "outputs": [],
   "source": [
    "#새로운 부류의 의상을 고를땐 0번부터 시작하도록\n",
    "#중간에 잠깐 멈추고 다시 이어나가는 경우도 있어서 따로 뺌\n",
    "index = 0"
   ]
  },
  {
   "cell_type": "code",
   "execution_count": 17,
   "metadata": {},
   "outputs": [
    {
     "ename": "IndexError",
     "evalue": "list index out of range",
     "output_type": "error",
     "traceback": [
      "\u001b[1;31m---------------------------------------------------------------------------\u001b[0m",
      "\u001b[1;31mIndexError\u001b[0m                                Traceback (most recent call last)",
      "\u001b[1;32m~\\AppData\\Local\\Temp/ipykernel_6548/301200357.py\u001b[0m in \u001b[0;36m<module>\u001b[1;34m\u001b[0m\n\u001b[0;32m     15\u001b[0m \u001b[1;33m\u001b[0m\u001b[0m\n\u001b[0;32m     16\u001b[0m     \u001b[0mpage_num\u001b[0m \u001b[1;33m=\u001b[0m \u001b[0mdriver\u001b[0m\u001b[1;33m.\u001b[0m\u001b[0mfind_elements_by_css_selector\u001b[0m\u001b[1;33m(\u001b[0m\u001b[1;34m'a.paging-btn.btn'\u001b[0m\u001b[1;33m)\u001b[0m\u001b[1;33m\u001b[0m\u001b[1;33m\u001b[0m\u001b[0m\n\u001b[1;32m---> 17\u001b[1;33m     \u001b[0mnext_btn\u001b[0m \u001b[1;33m=\u001b[0m \u001b[0mpage_num\u001b[0m\u001b[1;33m[\u001b[0m\u001b[1;36m12\u001b[0m\u001b[1;33m]\u001b[0m\u001b[1;31m#<< < 1, 2, 3, .... > >>\u001b[0m\u001b[1;33m\u001b[0m\u001b[1;33m\u001b[0m\u001b[0m\n\u001b[0m\u001b[0;32m     18\u001b[0m     \u001b[0mActionChains\u001b[0m\u001b[1;33m(\u001b[0m\u001b[0mdriver\u001b[0m\u001b[1;33m)\u001b[0m\u001b[1;33m.\u001b[0m\u001b[0mmove_to_element\u001b[0m\u001b[1;33m(\u001b[0m\u001b[0mnext_btn\u001b[0m\u001b[1;33m)\u001b[0m\u001b[1;33m.\u001b[0m\u001b[0mclick\u001b[0m\u001b[1;33m(\u001b[0m\u001b[0mnext_btn\u001b[0m\u001b[1;33m)\u001b[0m\u001b[1;33m.\u001b[0m\u001b[0mperform\u001b[0m\u001b[1;33m(\u001b[0m\u001b[1;33m)\u001b[0m\u001b[1;33m\u001b[0m\u001b[1;33m\u001b[0m\u001b[0m\n\u001b[0;32m     19\u001b[0m     \u001b[0mdriver\u001b[0m\u001b[1;33m.\u001b[0m\u001b[0mimplicitly_wait\u001b[0m\u001b[1;33m(\u001b[0m\u001b[1;36m2\u001b[0m\u001b[1;33m)\u001b[0m\u001b[1;33m\u001b[0m\u001b[1;33m\u001b[0m\u001b[0m\n",
      "\u001b[1;31mIndexError\u001b[0m: list index out of range"
     ]
    }
   ],
   "source": [
    "#여기가 메인\n",
    "page_move_from = int(page_move_from)\n",
    "page_move_to = int(page_move_to)\n",
    "\n",
    "#페이지 다음으로 넘기기\n",
    "pages_num = page_move_to - page_move_from + 1\n",
    "page_num = driver.find_elements_by_css_selector('a.paging-btn.btn')\n",
    "\n",
    "for i in range(pages_num):#페이지 수\n",
    "    page_num = driver.find_elements_by_css_selector('a.paging-btn.btn') \n",
    "    ActionChains(driver).move_to_element(page_num[page_move_from+1+i]).click(page_num[page_move_from+1+i]).perform()\n",
    "    current_photo_list = driver.find_elements_by_xpath('//*[@id=\"searchList\"]/li/div/div/a/img')\n",
    "    length = len(current_photo_list)\n",
    "    index = enter_get_leave(length, index)\n",
    "        \n",
    "    page_num = driver.find_elements_by_css_selector('a.paging-btn.btn')\n",
    "    next_btn = page_num[12]#<< < 1, 2, 3, .... > >>\n",
    "    ActionChains(driver).move_to_element(next_btn).click(next_btn).perform()\n",
    "    driver.implicitly_wait(2)    "
   ]
  },
  {
   "cell_type": "code",
   "execution_count": null,
   "metadata": {},
   "outputs": [],
   "source": []
  }
 ],
 "metadata": {
  "kernelspec": {
   "display_name": "Python 3 (ipykernel)",
   "language": "python",
   "name": "python3"
  },
  "language_info": {
   "codemirror_mode": {
    "name": "ipython",
    "version": 3
   },
   "file_extension": ".py",
   "mimetype": "text/x-python",
   "name": "python",
   "nbconvert_exporter": "python",
   "pygments_lexer": "ipython3",
   "version": "3.8.11"
  }
 },
 "nbformat": 4,
 "nbformat_minor": 4
}
